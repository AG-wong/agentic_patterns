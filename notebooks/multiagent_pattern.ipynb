{
 "cells": [
  {
   "cell_type": "markdown",
   "id": "0acdc7c0-61bd-45a1-a040-df05c67ab0b2",
   "metadata": {},
   "source": [
    "# Multiagent Pattern - Multiagent Collaboration"
   ]
  },
  {
   "cell_type": "markdown",
   "id": "7ba71f3e-5421-4dd7-bc63-e3fcdf2680a6",
   "metadata": {},
   "source": [
    "<img src=\"../img/multiagent_pattern.png\" alt=\"Alt text\" width=\"500\"/>\n",
    "\n",
    "---\n",
    "\n",
    "You may have heard about frameworks like [CrewAI](https://www.crewai.com/) or [AutoGen](https://microsoft.github.io/autogen/0.2/), which allow you to create multi-agent applications.\n",
    "\n",
    "These frameworks implement different variations of the multi-agent pattern, in which tasks are divided into **smaller subtasks executed by different roles** (e.g. one agent can be a software engineer, another a project manager, etc.)\n",
    "\n",
    "For this final lesson, I wanted to build something more elaborate. That's why I've been working on a 𝐦𝐢𝐧𝐢𝐦𝐚𝐥𝐢𝐬𝐭 𝐯𝐞𝐫𝐬𝐢𝐨𝐧 𝐨𝐟 𝐂𝐫𝐞𝐰𝐀𝐈, drawing inspiration from two of its key concepts: 𝐂𝐫𝐞𝐰 and 𝐀𝐠𝐞𝐧𝐭.\n",
    "\n",
    "Additionally, I've also borrowed ideas from [𝐀𝐢𝐫𝐟𝐥𝐨𝐰](https://airflow.apache.org/)'𝐬 𝐝𝐞𝐬𝐢𝐠𝐧 𝐩𝐡𝐢𝐥𝐨𝐬𝐨𝐩𝐡𝐲, using >> and << to define dependencies between my agents. In this micro-CrewAI, 𝐚𝐠𝐞𝐧𝐭𝐬 are equivalent to 𝐀𝐢𝐫𝐟𝐥𝐨𝐰 𝐓𝐚𝐬𝐤𝐬 and the 𝐂𝐫𝐞𝐰 is equivalent to an 𝐀𝐢𝐫𝐟𝐥𝐨𝐰 𝐃𝐀𝐆.\n",
    "\n",
    "Take a look at the previous lessons if you haven't!\n",
    "\n",
    "* [First Lesson: The Reflection Pattern](https://github.com/neural-maze/agentic_patterns/blob/main/notebooks/reflection_pattern.ipynb)\n",
    "* [Second Lesson: The Tool Pattern](https://github.com/neural-maze/agentic_patterns/blob/main/notebooks/tool_pattern.ipynb)\n",
    "* [Third Lesson: The Planning Pattern](https://github.com/neural-maze/agentic_patterns/blob/main/notebooks/planning_pattern.ipynb)\n",
    "\n",
    "**Let's begin!!** 💪"
   ]
  },
  {
   "cell_type": "markdown",
   "id": "f786e114-cde4-400e-8781-fb7f48bd072c",
   "metadata": {},
   "source": [
    "## The Agent Class"
   ]
  },
  {
   "cell_type": "markdown",
   "id": "ec27b59f-82c6-4b21-917c-fa6d64c1e614",
   "metadata": {},
   "source": [
    "First of all, we need an **Agent Class**. This class implements an\n",
    "Agent, and internally it implements the ReAct technique (check [Lesson 3](https://github.com/neural-maze/agentic_patterns/blob/main/notebooks/planning_pattern.ipynb) if you want to see this technique in detail!)."
   ]
  },
  {
   "cell_type": "code",
   "execution_count": 1,
   "id": "69780ba5-c321-4d71-b0aa-35b1d6c55ff3",
   "metadata": {},
   "outputs": [],
   "source": [
    "from agentic_patterns.multiagent_pattern.agent import Agent"
   ]
  },
  {
   "cell_type": "markdown",
   "id": "6ba412fb-9604-4146-93bb-ed0451c529f8",
   "metadata": {},
   "source": [
    "Let's create some example agent, to see how it works."
   ]
  },
  {
   "cell_type": "code",
   "execution_count": 2,
   "id": "3aa589d5-7825-4fe0-a269-f35474bf6da5",
   "metadata": {},
   "outputs": [],
   "source": [
    "agent_example = Agent(\n",
    "    name=\"Poet Agent\",\n",
    "    backstory=\"You are a well-known poet, who enjoys creating high quality poetry.\",\n",
    "    task_description=\"Write a poem about the meaning of life\",\n",
    "    task_expected_output=\"Just output the poem, without any title or introductory sentences\",\n",
    ")"
   ]
  },
  {
   "cell_type": "code",
   "execution_count": 3,
   "id": "fd71e1e3-893f-40e1-b6c5-f15e42beb851",
   "metadata": {},
   "outputs": [
    {
     "name": "stdout",
     "output_type": "stream",
     "text": [
      "In realms of existence, we wander and roam \n",
      "searching for answers to an eternal home \n",
      "a place where hearts can find their peaceful nest \n",
      "where love and laughter are the ultimate quest \n",
      "\n",
      "In moments of joy, we grasp and we hold \n",
      "the beauty of life, like a story unfold \n",
      "in sorrow's darkness, we seek to find \n",
      "a glimmer of hope, a light left behind \n",
      "\n",
      "Perhaps the meaning of life is not one thing \n",
      "but a tapestry woven with every heartbeat's ring \n",
      "a kaleidoscope of moments, shining bright \n",
      "a dance between darkness and the light \n",
      "\n",
      "Maybe it's found in the love we give and share \n",
      "in the connection of hearts, beyond compare \n",
      "or perhaps in the solo journey of the soul \n",
      "where the whispers of the heart make us whole \n",
      "\n",
      "In the grand symphony of existence and time \n",
      "each note unique, yet together intertwined \n",
      "the meaning of life, a mystery divine \n",
      "unfolding like a rose, in every moment's design\n"
     ]
    }
   ],
   "source": [
    "print(agent_example.run())"
   ]
  },
  {
   "cell_type": "markdown",
   "id": "a8e0e4aa-cce0-4648-a6fd-eac244662874",
   "metadata": {},
   "source": [
    "You can also associate tools with the agent. Let's create a tool for writing some string into a CSV."
   ]
  },
  {
   "cell_type": "code",
   "execution_count": 4,
   "id": "b7fae777-3bf6-4be5-8ab8-de79f545d25a",
   "metadata": {},
   "outputs": [],
   "source": [
    "from agentic_patterns.tool_pattern.tool import tool"
   ]
  },
  {
   "cell_type": "code",
   "execution_count": 5,
   "id": "4016dc0d-cc7f-4e7a-b971-2ecfd31b79cf",
   "metadata": {},
   "outputs": [],
   "source": [
    "@tool\n",
    "def write_str_to_txt(string_data: str, txt_filename: str):\n",
    "    \"\"\"\n",
    "    Writes a string to a txt file.\n",
    "\n",
    "    This function takes a string and writes it to a text file. If the file already exists, \n",
    "    it will be overwritten with the new data.\n",
    "\n",
    "    Args:\n",
    "        string_data (str): The string containing the data to be written to the file.\n",
    "        txt_filename (str): The name of the text file to which the data should be written.\n",
    "    \"\"\"\n",
    "    # Write the string data to the text file\n",
    "    with open(txt_filename, mode='w', encoding='utf-8') as file:\n",
    "        file.write(string_data)\n",
    "\n",
    "    print(f\"Data successfully written to {txt_filename}\")"
   ]
  },
  {
   "cell_type": "code",
   "execution_count": 6,
   "id": "7ed9d5c5-6a1a-4510-85a1-5c03c2d2fa37",
   "metadata": {},
   "outputs": [],
   "source": [
    "agent_tool_example = Agent(\n",
    "    name=\"Writer Agent\",\n",
    "    backstory=\"You are a language model specialised in writing text into .txt files\",\n",
    "    task_description=\"Write the string 'This is a Tool Agent' into './tool_agent_example.txt'\",\n",
    "    task_expected_output=\"A .txt file containing the given string\",\n",
    "    tools=write_str_to_txt,\n",
    ")"
   ]
  },
  {
   "cell_type": "code",
   "execution_count": 7,
   "id": "a6214dc3-e24f-430c-99f0-6a8fe484d8ba",
   "metadata": {},
   "outputs": [
    {
     "name": "stdout",
     "output_type": "stream",
     "text": [
      "\u001b[35m\n",
      "Thought: I need to take the given string and write it to a .txt file with a specified name\n",
      "\u001b[32m\n",
      "Using Tool: write_str_to_txt\n",
      "\u001b[32m\n",
      "Tool call dict: \n",
      "{'name': 'write_str_to_txt', 'arguments': {'string_data': 'This is a Tool Agent', 'txt_filename': './tool_agent_example.txt'}, 'id': 0}\n",
      "Data successfully written to ./tool_agent_example.txt\n",
      "\u001b[32m\n",
      "Tool result: \n",
      "None\n",
      "\u001b[34m\n",
      "Observations: {0: None}\n"
     ]
    },
    {
     "data": {
      "text/plain": [
       "'A .txt file containing the given string'"
      ]
     },
     "execution_count": 7,
     "metadata": {},
     "output_type": "execute_result"
    }
   ],
   "source": [
    "agent_tool_example.run()"
   ]
  },
  {
   "cell_type": "markdown",
   "id": "026c6229-5833-4a99-afa6-e45cc72fb04d",
   "metadata": {},
   "source": [
    "## Defining Agent Dependencies"
   ]
  },
  {
   "cell_type": "markdown",
   "id": "ab6688e9-1fdf-4b51-bb33-c63c80ce9bb7",
   "metadata": {},
   "source": [
    "Let's define two agents now."
   ]
  },
  {
   "cell_type": "code",
   "execution_count": 8,
   "id": "bf142278-b556-42cb-9a5e-2761af96f5c0",
   "metadata": {},
   "outputs": [],
   "source": [
    "agent_1 = Agent(\n",
    "    name=\"Poet Agent\",\n",
    "    backstory=\"You are a well-known poet, who enjoys creating high quality poetry.\",\n",
    "    task_description=\"Write a poem about the meaning of life\",\n",
    "    task_expected_output=\"Just output the poem, without any title or introductory sentences\",\n",
    ")\n",
    "\n",
    "agent_2 = Agent(\n",
    "    name=\"Poem Translator Agent\",\n",
    "    backstory=\"You are an expert translator especially skilled in Ancient Greek\",\n",
    "    task_description=\"Translate a poem into Ancient Greek\", \n",
    "    task_expected_output=\"Just output the translated poem and nothing else\"\n",
    ")"
   ]
  },
  {
   "cell_type": "markdown",
   "id": "565d174d-ab42-4318-b53a-1ed142512f4f",
   "metadata": {},
   "source": [
    "We can define the agent dependencies using the `>>` operator."
   ]
  },
  {
   "cell_type": "code",
   "execution_count": 9,
   "id": "f52347ac-99b3-4695-a6a4-cf31f7784826",
   "metadata": {},
   "outputs": [
    {
     "data": {
      "text/plain": [
       "Poem Translator Agent"
      ]
     },
     "execution_count": 9,
     "metadata": {},
     "output_type": "execute_result"
    }
   ],
   "source": [
    "agent_1 >> agent_2"
   ]
  },
  {
   "cell_type": "markdown",
   "id": "603e5a0d-25ef-4fdf-8ed8-63bd50f90cfd",
   "metadata": {},
   "source": [
    "This means `agent_2` depends on `agent_1`. We can check the dependencies and dependents of both agents."
   ]
  },
  {
   "cell_type": "code",
   "execution_count": 11,
   "id": "560148d0-ae20-45ba-b22f-938eda0be64d",
   "metadata": {},
   "outputs": [
    {
     "name": "stdout",
     "output_type": "stream",
     "text": [
      "Agent 1 dependencies:  []\n",
      "Agent 1 dependents:  [Poem Translator Agent]\n",
      "Agent 2 dependencies:  [Poet Agent]\n",
      "Agent 2 dependents:  []\n"
     ]
    }
   ],
   "source": [
    "print(\"Agent 1 dependencies: \", agent_1.dependencies)\n",
    "print(\"Agent 1 dependents: \", agent_1.dependents)\n",
    "print(\"Agent 2 dependencies: \", agent_2.dependencies)\n",
    "print(\"Agent 2 dependents: \", agent_2.dependents)"
   ]
  },
  {
   "cell_type": "markdown",
   "id": "e9276064-136c-49bc-ae95-4d2b2ba47187",
   "metadata": {},
   "source": [
    "Now, if we run `agent_1`, the results will be added to `agent_2`'s context."
   ]
  },
  {
   "cell_type": "code",
   "execution_count": 12,
   "id": "26f58fda-3673-4067-ad0b-a4055a476a32",
   "metadata": {},
   "outputs": [
    {
     "name": "stdout",
     "output_type": "stream",
     "text": [
      "In whispered winds that gently sway,\n",
      "A mystery unfolds each passing day,\n",
      "A question mark that echoes through our years,\n",
      "What meaning lies behind our laughter, joy and tears?\n",
      "\n",
      "Is it the bloom of love that takes our breath?\n",
      "Or summer sunshine that brings warmth to our death?\n",
      "Perhaps it's the quiet peaceful nights that come,\n",
      "And the stillness that illuminates, like the morning's gentle hum.\n",
      "\n",
      "Is life a fleeting dream that we all chase?\n",
      "A pursuit of dreams, with moments we can't replace?\n",
      "Or is it the collective tapestry we weave?\n",
      "Where each thread's meaning intersects, the hearts we give and retrieve.\n",
      "\n",
      "In nature's depths, in art and love we find our truth,\n",
      "In connection with each soul, the beat of our youth,\n",
      "And as our seasons unfold, we begin to realize,\n",
      "Life's meaning lies not in its length, but in the moment's gentle sigh.\n",
      "\n",
      "Yet meaning's never-ending quest that beats within our heart,\n",
      "Leads us to weave a patchwork of love, our lives' unwinding art,\n",
      "In searching for the puzzle's end, we find its pieces key,\n",
      "In living, learning, growing and loving, a life well-lived we see.\n",
      "\n",
      "Perhaps life's meaning lies not in a single thread,\n",
      "But a rich tapestry that countless moments of love and time now wove and spread.\n"
     ]
    }
   ],
   "source": [
    "print(agent_1.run())"
   ]
  },
  {
   "cell_type": "code",
   "execution_count": 13,
   "id": "cd3dccc9-c201-4a70-bebf-1b9b83b7f59d",
   "metadata": {},
   "outputs": [
    {
     "name": "stdout",
     "output_type": "stream",
     "text": [
      "Poem Translator Agent received context: \n",
      "In whispered winds that gently sway,\n",
      "A mystery unfolds each passing day,\n",
      "A question mark that echoes through our years,\n",
      "What meaning lies behind our laughter, joy and tears?\n",
      "\n",
      "Is it the bloom of love that takes our breath?\n",
      "Or summer sunshine that brings warmth to our death?\n",
      "Perhaps it's the quiet peaceful nights that come,\n",
      "And the stillness that illuminates, like the morning's gentle hum.\n",
      "\n",
      "Is life a fleeting dream that we all chase?\n",
      "A pursuit of dreams, with moments we can't replace?\n",
      "Or is it the collective tapestry we weave?\n",
      "Where each thread's meaning intersects, the hearts we give and retrieve.\n",
      "\n",
      "In nature's depths, in art and love we find our truth,\n",
      "In connection with each soul, the beat of our youth,\n",
      "And as our seasons unfold, we begin to realize,\n",
      "Life's meaning lies not in its length, but in the moment's gentle sigh.\n",
      "\n",
      "Yet meaning's never-ending quest that beats within our heart,\n",
      "Leads us to weave a patchwork of love, our lives' unwinding art,\n",
      "In searching for the puzzle's end, we find its pieces key,\n",
      "In living, learning, growing and loving, a life well-lived we see.\n",
      "\n",
      "Perhaps life's meaning lies not in a single thread,\n",
      "But a rich tapestry that countless moments of love and time now wove and spread.\n"
     ]
    }
   ],
   "source": [
    "print(agent_2.context)"
   ]
  },
  {
   "cell_type": "markdown",
   "id": "b4019dd7-b79f-4595-8104-9a47c64e4ba4",
   "metadata": {},
   "source": [
    "Now, if we run the second agent, it will use the context received from the previous agent to generate its output."
   ]
  },
  {
   "cell_type": "code",
   "execution_count": 14,
   "id": "a686cefc-db4f-4eb4-9e93-11bdbdd30d6d",
   "metadata": {},
   "outputs": [
    {
     "name": "stdout",
     "output_type": "stream",
     "text": [
      "Ἀ.eduκτὰ συγνώμη τὰ σόγονα που ψιθύρουν καὶ που εἶναι εἰρήνεια,\n",
      "\n",
      "Μυστήριο ἀνοίγει διαρκῶς καλούμενοι,\n",
      "Ἐρώτημα ἕνα που ἐλέγξει τὰ ἡλικώματα μας,\n",
      "Τί σημαίνουν πίσω ἀπὸ τὰ γέλια μας, χαρά καὶ δάκρυα;\n",
      "\n",
      "Ἢ εἶναι ἡ ἄνθηση τῆς ἀγάπης που παίρνει τὸ ἄφθονο màς;\n",
      "Ἢ ἡ θέρος ἡλιοφάνεια που βραβεύει θερμότητα στο θάνατο μας;\n",
      "Ἢ ἴσως εἶναι τὰ ἡσύχια παλαίωναν που ἔρχεται,\n",
      "Και ἡ ἠρεμία που φωτίζει, ὅπως τὸ πρωΐνὸν ὕφος;\n",
      "\n",
      "Ἢ εἶναι ἡ ζωὴ εἴδωλο που ὅλοι κυνηγοῦμε;\n",
      "Ἐξόφλησις ὀνείρων, με τὰ κρυστάλλινα κῶλα που δέν τον καθαρισμό;\n",
      "Ἢ εἶναι ἡ συλλεκτική tapisserie που ὑφαίνουμε;\n",
      "Ὁπου ἡ κάθε νήμα εἶναι ἡ σημασία που διασταυρώνεται, τznamὴ καρδιές που δίναμε καὶ παίρνουμε.\n",
      "\n",
      "Στὴ φύση βρύν, στὴ τέχνη καὶ τῆ ἀγάπη που εὑρίσκουμε τὴν ἀλήθεια μας,\n",
      "Στὴ σύνδεση με τὴν ψυχή, ἡ κρούση τῶν νιάτων;\n",
      "Και ὅσο ξετυλίγονται οἱ καιροί μας, ἀρχίζουμε νὰ συνοραῖστε,\n",
      "Ἡ σημασία τῆς ζωῆς βρὶσκεται ὄχι στο μῆκος ἀλλά τὴ δYG ὑπὲρ τῆσ momentos εἰδικώ.\n",
      "\n",
      "Ἀλλὰ ἡ ἀναζήτηση τῆς σημασίας ποὺ παίρνει ἡ κρύπτη στὴ καρδιά μας,\n",
      "Μᾶς ὁδηγεῖ νὰ ὑφάνουμε καλαμίδα ἀγάπης, τὴν τέχνη τῆς ζωῆς μας.\n",
      "Ἐν τῶ ἀναζητῶν τὸ τέλος τοῦ puzzle, εὑρίσκουμε το κλειδί,\n",
      "Στὴ ζωή, στὴ μάθηση, τὴν ἀνάπτυξη καὶ τὴν ἀγάπη, μιᾶς ζωὴς καλά ἔζη.\n",
      "\n",
      "Ἰσώ εἶναι ἡ σημασία τῆς ζωῆς που βρὶσκεται ὄχι σὲ ἕνα ἴναιο,\n",
      "Ἀλλὰ σὲ πλούσια tapisserie που ἀπείρως απόστολος ἀγάπης καὶ χρόνου ἤδη ἥνωσε καὶ ἄνειψε.\n"
     ]
    }
   ],
   "source": [
    "print(agent_2.run())"
   ]
  },
  {
   "cell_type": "markdown",
   "id": "eb11c5a8-fc37-42e3-a521-8cf87ae86dbc",
   "metadata": {},
   "source": [
    "## The Crew"
   ]
  },
  {
   "cell_type": "code",
   "execution_count": 15,
   "id": "66c83cc4-87cf-4afc-855b-e5263ad95a71",
   "metadata": {},
   "outputs": [],
   "source": [
    "from agentic_patterns.multiagent_pattern.crew import Crew"
   ]
  },
  {
   "cell_type": "code",
   "execution_count": 28,
   "id": "e58d1cbd-3dbb-4a36-8fc8-9b4242a7b1d3",
   "metadata": {},
   "outputs": [],
   "source": [
    "with Crew() as crew:\n",
    "    agent_1 = Agent(\n",
    "        name=\"Poet Agent\",\n",
    "        backstory=\"You are a well-known poet, who enjoys creating high quality poetry.\",\n",
    "        task_description=\"Write a poem about the meaning of life\",\n",
    "        task_expected_output=\"Just output the poem, without any title or introductory sentences\",\n",
    "    )\n",
    "\n",
    "    agent_2 = Agent(\n",
    "        name=\"Poem Translator Agent\",\n",
    "        backstory=\"You are an expert translator especially skilled in Spanish\",\n",
    "        task_description=\"Translate a poem into Spanish\", \n",
    "        task_expected_output=\"Just output the translated poem and nothing else\"\n",
    "    )\n",
    "\n",
    "    agent_3 = Agent(\n",
    "        name=\"Writer Agent\",\n",
    "        backstory=\"You are an expert transcriber, that loves writing poems into txt files\",\n",
    "        task_description=\"You'll receive a Spanish poem in your context. You need to write the poem into './poem.txt' file\",\n",
    "        task_expected_output=\"A txt file containing the greek poem received from the context\",\n",
    "        tools=write_str_to_txt,\n",
    "    )\n",
    "\n",
    "    agent_1 >> agent_2 >> agent_3"
   ]
  },
  {
   "cell_type": "code",
   "execution_count": 29,
   "id": "9027cbdc-2bb0-419b-87a0-0352f59d3079",
   "metadata": {},
   "outputs": [
    {
     "data": {
      "image/svg+xml": [
       "<?xml version=\"1.0\" encoding=\"UTF-8\" standalone=\"no\"?>\n",
       "<!DOCTYPE svg PUBLIC \"-//W3C//DTD SVG 1.1//EN\"\n",
       " \"http://www.w3.org/Graphics/SVG/1.1/DTD/svg11.dtd\">\n",
       "<!-- Generated by graphviz version 12.1.2 (20240928.0832)\n",
       " -->\n",
       "<!-- Pages: 1 -->\n",
       "<svg width=\"202pt\" height=\"188pt\"\n",
       " viewBox=\"0.00 0.00 201.80 188.00\" xmlns=\"http://www.w3.org/2000/svg\" xmlns:xlink=\"http://www.w3.org/1999/xlink\">\n",
       "<g id=\"graph0\" class=\"graph\" transform=\"scale(1 1) rotate(0) translate(4 184)\">\n",
       "<polygon fill=\"white\" stroke=\"none\" points=\"-4,4 -4,-184 197.8,-184 197.8,4 -4,4\"/>\n",
       "<!-- Poet Agent -->\n",
       "<g id=\"node1\" class=\"node\">\n",
       "<title>Poet Agent</title>\n",
       "<ellipse fill=\"none\" stroke=\"black\" cx=\"96.9\" cy=\"-162\" rx=\"51.86\" ry=\"18\"/>\n",
       "<text text-anchor=\"middle\" x=\"96.9\" y=\"-156.95\" font-family=\"Times,serif\" font-size=\"14.00\">Poet Agent</text>\n",
       "</g>\n",
       "<!-- Poem Translator Agent -->\n",
       "<g id=\"node2\" class=\"node\">\n",
       "<title>Poem Translator Agent</title>\n",
       "<ellipse fill=\"none\" stroke=\"black\" cx=\"96.9\" cy=\"-90\" rx=\"96.9\" ry=\"18\"/>\n",
       "<text text-anchor=\"middle\" x=\"96.9\" y=\"-84.95\" font-family=\"Times,serif\" font-size=\"14.00\">Poem Translator Agent</text>\n",
       "</g>\n",
       "<!-- Poet Agent&#45;&gt;Poem Translator Agent -->\n",
       "<g id=\"edge1\" class=\"edge\">\n",
       "<title>Poet Agent&#45;&gt;Poem Translator Agent</title>\n",
       "<path fill=\"none\" stroke=\"black\" d=\"M96.9,-143.7C96.9,-136.41 96.9,-127.73 96.9,-119.54\"/>\n",
       "<polygon fill=\"black\" stroke=\"black\" points=\"100.4,-119.62 96.9,-109.62 93.4,-119.62 100.4,-119.62\"/>\n",
       "</g>\n",
       "<!-- Writer Agent -->\n",
       "<g id=\"node3\" class=\"node\">\n",
       "<title>Writer Agent</title>\n",
       "<ellipse fill=\"none\" stroke=\"black\" cx=\"96.9\" cy=\"-18\" rx=\"59.54\" ry=\"18\"/>\n",
       "<text text-anchor=\"middle\" x=\"96.9\" y=\"-12.95\" font-family=\"Times,serif\" font-size=\"14.00\">Writer Agent</text>\n",
       "</g>\n",
       "<!-- Poem Translator Agent&#45;&gt;Writer Agent -->\n",
       "<g id=\"edge2\" class=\"edge\">\n",
       "<title>Poem Translator Agent&#45;&gt;Writer Agent</title>\n",
       "<path fill=\"none\" stroke=\"black\" d=\"M96.9,-71.7C96.9,-64.41 96.9,-55.73 96.9,-47.54\"/>\n",
       "<polygon fill=\"black\" stroke=\"black\" points=\"100.4,-47.62 96.9,-37.62 93.4,-47.62 100.4,-47.62\"/>\n",
       "</g>\n",
       "</g>\n",
       "</svg>\n"
      ],
      "text/plain": [
       "<graphviz.graphs.Digraph at 0x10e5ce410>"
      ]
     },
     "execution_count": 29,
     "metadata": {},
     "output_type": "execute_result"
    }
   ],
   "source": [
    "crew.plot()"
   ]
  },
  {
   "cell_type": "code",
   "execution_count": 30,
   "id": "b39f70a0-2c91-40c4-ab56-8318cef7ef97",
   "metadata": {},
   "outputs": [
    {
     "name": "stdout",
     "output_type": "stream",
     "text": [
      "\u001b[1m\u001b[36m\n",
      "==================================================\n",
      "\u001b[35mRUNNING AGENT: Poet Agent\n",
      "\u001b[1m\u001b[36m==================================================\n",
      "\n",
      "\u001b[31mIn the grand tapestry of time and space,\n",
      "A thread of existence weaves its place,\n",
      "A fleeting moment, a spark of might,\n",
      "A life that burns, and flickers in the night.\n",
      "\n",
      "We dance upon the earth, with feet of clay,\n",
      " Searching for answers, night and day,\n",
      "We toil and struggle, we laugh and play,\n",
      "Yet in the end, what does it all convey?\n",
      "\n",
      "Some say it's purpose, some say it's fate,\n",
      "Some claim to know, while others hesitate,\n",
      "But as we journey through life's twisted gate,\n",
      "We begin to see, our own path create.\n",
      "\n",
      "Perhaps the meaning lies, not in the end,\n",
      "But in the journey, the love, the friend,\n",
      "The sun-kissed days, the starry nights,\n",
      "The memories we hold, the laughter, the fights.\n",
      "\n",
      "Or maybe it's a mystery we'll never know,\n",
      "A truth that's hidden, in the cosmos' glow,\n",
      "A secret that only the universe can share,\n",
      "A riddle that's solved, only in the silence we spare.\n",
      "\n",
      "But this we do know, in this life we lead,\n",
      "We have the power, to plant the seed,\n",
      "To nurture growth, to tend the earth,\n",
      "To make our mark, to give our mirth.\n",
      "\n",
      "And when our time is done, and we're gone,\n",
      "Our legacy remains, like the morning sun,\n",
      "A light that shines, a love that's true,\n",
      "A memory that lives, in the hearts of me and you.\n",
      "\u001b[1m\u001b[36m\n",
      "==================================================\n",
      "\u001b[35mRUNNING AGENT: Poem Translator Agent\n",
      "\u001b[1m\u001b[36m==================================================\n",
      "\n",
      "\u001b[31mEn la gran tapicería del tiempo y el espacio,\n",
      "Un hilo de existencia teje su lugar,\n",
      "Un momento fugaz, un destello de fuerza,\n",
      "Una vida que arde y parpadea en la noche.\n",
      "\n",
      "Bailamos sobre la tierra, con pies de barro,\n",
      "Buscando respuestas, de noche y de día,\n",
      "Nos esforzamos y luchamos, reímos y jugamos,\n",
      "Pero al final, ¿qué significa todo esto?\n",
      "\n",
      "Algunos dicen que es un propósito, otros dicen que es el destino,\n",
      "Algunos afirman saber, mientras que otros dudan,\n",
      "Pero mientras avanzamos por la puerta retorcida de la vida,\n",
      "Comenzamos a ver, nuestro propio camino crear.\n",
      "\n",
      "Quizás el significado se encuentra, no en el final,\n",
      "Sino en el viaje, el amor, el amigo,\n",
      "Los días bañados por el sol, las noches estrelladas,\n",
      "Los recuerdos que atesoramos, las risas, las peleas.\n",
      "\n",
      "O tal vez sea un misterio que nunca sabremos,\n",
      "Una verdad escondida, en el resplandor del cosmos,\n",
      "Un secreto que solo el universo puede compartir,\n",
      "Un enigma que solo se resuelve, en el silencio que guardamos.\n",
      "\n",
      "Pero esto sí lo sabemos, en esta vida que vivimos,\n",
      "Tenemos el poder, de sembrar la semilla,\n",
      "De nutrir el crecimiento, de cuidar la tierra,\n",
      "De dejar nuestra huella, de dar nuestra alegría.\n",
      "\n",
      "Y cuando nuestro tiempo se acabe y hayamos partido,\n",
      "Nuestro legado permanece, como el sol de la mañana,\n",
      "Una luz que brilla, un amor que es verdad,\n",
      "Un recuerdo que vive, en los corazones de ti y de mí.\n",
      "\u001b[1m\u001b[36m\n",
      "==================================================\n",
      "\u001b[35mRUNNING AGENT: Writer Agent\n",
      "\u001b[1m\u001b[36m==================================================\n",
      "\n",
      "\u001b[35m\n",
      "Thought: I need to write the Spanish poem into a txt file named 'poem.txt' in the current directory.\n",
      "\u001b[32m\n",
      "Using Tool: write_str_to_txt\n",
      "\u001b[32m\n",
      "Tool call dict: \n",
      "{'name': 'write_str_to_txt', 'arguments': {'string_data': 'En la gran tapicería del tiempo y el espacio,\\nUn hilo de existencia teje su lugar,\\nUn momento fugaz, un destello de fuerza,\\nUna vida que arde y parpadea en la noche.\\n\\nBailamos sobre la tierra, con pies de barro,\\nBuscando respuestas, de noche y de día,\\nNos esforzamos y luchamos, reímos y jugamos,\\nPero al final, ¿qué significa todo esto?\\n\\nAlgunos dicen que es un propósito, otros dicen que es el destino,\\nAlgunos afirman saber, mientras que otros dudan,\\nPero mientras avanzamos por la puerta retorcida de la vida,\\nComenzamos a ver, nuestro propio camino crear.\\n\\nQuizás el significado se encuentra, no en el final,\\nSino en el viaje, el amor, el amigo,\\nLos días bañados por el sol, las noches estrelladas,\\nLos recuerdos que atesoramos, las risas, las peleas.\\n\\nO tal vez sea un misterio que nunca sabremos,\\nUna verdad escondida, en el resplandor del cosmos,\\nUn secreto que solo el universo puede compartir,\\nUn enigma que solo se resuelve, en el silencio que guardamos.\\n\\nPero esto sí lo sabemos, en esta vida que vivimos,\\nTenemos el poder, de sembrar la semilla,\\nDe nutrir el crecimiento, de cuidar la tierra,\\nDe dejar nuestra huella, de dar nuestra alegría.\\n\\nY cuando nuestro tiempo se acabe y hayamos partido,\\nNuestro legado permanece, como el sol de la mañana,\\nUna luz que brilla, un amor que es verdad,\\nUn recuerdo que vive, en los corazones de ti y de mí.', 'txt_filename': './poem.txt'}, 'id': 0}\n",
      "Data successfully written to ./poem.txt\n",
      "\u001b[32m\n",
      "Tool result: \n",
      "None\n",
      "\u001b[34m\n",
      "Observations: {0: None}\n",
      "\u001b[31mThe poem has been successfully written to './poem.txt' file.\n"
     ]
    }
   ],
   "source": [
    "crew.run()"
   ]
  },
  {
   "cell_type": "code",
   "execution_count": null,
   "id": "02d92f91-47b1-4f86-ba72-408ed0989206",
   "metadata": {},
   "outputs": [],
   "source": []
  }
 ],
 "metadata": {
  "kernelspec": {
   "display_name": "Python 3 (ipykernel)",
   "language": "python",
   "name": "python3"
  },
  "language_info": {
   "codemirror_mode": {
    "name": "ipython",
    "version": 3
   },
   "file_extension": ".py",
   "mimetype": "text/x-python",
   "name": "python",
   "nbconvert_exporter": "python",
   "pygments_lexer": "ipython3",
   "version": "3.11.3"
  }
 },
 "nbformat": 4,
 "nbformat_minor": 5
}
