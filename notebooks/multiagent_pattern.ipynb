{
 "cells": [
  {
   "cell_type": "markdown",
   "id": "0acdc7c0-61bd-45a1-a040-df05c67ab0b2",
   "metadata": {},
   "source": [
    "# Multiagent Pattern - Multiagent Collaboration"
   ]
  },
  {
   "cell_type": "markdown",
   "id": "7ba71f3e-5421-4dd7-bc63-e3fcdf2680a6",
   "metadata": {},
   "source": [
    "<img src=\"../img/multiagent_pattern.png\" alt=\"Alt text\" width=\"500\"/>\n",
    "\n",
    "---\n",
    "\n",
    "You may have heard about frameworks like [CrewAI](https://www.crewai.com/) or [AutoGen](https://microsoft.github.io/autogen/0.2/), which allow you to create multi-agent applications.\n",
    "\n",
    "These frameworks implement different variations of the multi-agent pattern, in which tasks are divided into **smaller subtasks executed by different roles** (e.g. one agent can be a software engineer, another a project manager, etc.)\n",
    "\n",
    "For this final lesson, I wanted to build something more elaborate. That's why I've been working on a 𝐦𝐢𝐧𝐢𝐦𝐚𝐥𝐢𝐬𝐭 𝐯𝐞𝐫𝐬𝐢𝐨𝐧 𝐨𝐟 𝐂𝐫𝐞𝐰𝐀𝐈, drawing inspiration from two of its key concepts: 𝐂𝐫𝐞𝐰 and 𝐀𝐠𝐞𝐧𝐭.\n",
    "\n",
    "Additionally, I've also borrowed ideas from [𝐀𝐢𝐫𝐟𝐥𝐨𝐰](https://airflow.apache.org/)'𝐬 𝐝𝐞𝐬𝐢𝐠𝐧 𝐩𝐡𝐢𝐥𝐨𝐬𝐨𝐩𝐡𝐲, using >> and << to define dependencies between my agents. In this micro-CrewAI, 𝐚𝐠𝐞𝐧𝐭𝐬 are equivalent to 𝐀𝐢𝐫𝐟𝐥𝐨𝐰 𝐓𝐚𝐬𝐤𝐬 and the 𝐂𝐫𝐞𝐰 is equivalent to an 𝐀𝐢𝐫𝐟𝐥𝐨𝐰 𝐃𝐀𝐆.\n",
    "\n",
    "Take a look at the previous lessons if you haven't!\n",
    "\n",
    "* [First Lesson: The Reflection Pattern](https://github.com/neural-maze/agentic_patterns/blob/main/notebooks/reflection_pattern.ipynb)\n",
    "* [Second Lesson: The Tool Pattern](https://github.com/neural-maze/agentic_patterns/blob/main/notebooks/tool_pattern.ipynb)\n",
    "* [Third Lesson: The Planning Pattern](https://github.com/neural-maze/agentic_patterns/blob/main/notebooks/planning_pattern.ipynb)\n",
    "\n",
    "**Let's begin!!** 💪"
   ]
  },
  {
   "cell_type": "markdown",
   "id": "f786e114-cde4-400e-8781-fb7f48bd072c",
   "metadata": {},
   "source": [
    "## The Agent Class"
   ]
  },
  {
   "cell_type": "markdown",
   "id": "ec27b59f-82c6-4b21-917c-fa6d64c1e614",
   "metadata": {},
   "source": [
    "First of all, we need an **Agent Class**. This class implements an\n",
    "Agent, and internally it implements the ReAct technique (check [Lesson 3](https://github.com/neural-maze/agentic_patterns/blob/main/notebooks/planning_pattern.ipynb) if you want to see this technique in detail!)."
   ]
  },
  {
   "cell_type": "code",
   "execution_count": 1,
   "id": "69780ba5-c321-4d71-b0aa-35b1d6c55ff3",
   "metadata": {},
   "outputs": [],
   "source": [
    "from agentic_patterns.multiagent_pattern.agent import Agent"
   ]
  },
  {
   "cell_type": "markdown",
   "id": "6ba412fb-9604-4146-93bb-ed0451c529f8",
   "metadata": {},
   "source": [
    "Let's create some example agent, to see how it works."
   ]
  },
  {
   "cell_type": "code",
   "execution_count": 2,
   "id": "3aa589d5-7825-4fe0-a269-f35474bf6da5",
   "metadata": {},
   "outputs": [],
   "source": [
    "agent_example = Agent(\n",
    "    name=\"Poet Agent\",\n",
    "    backstory=\"You are a well-known poet, who enjoys creating high quality poetry.\",\n",
    "    task_description=\"Write a poem about the meaning of life\",\n",
    "    task_expected_output=\"Just output the poem, without any title or introductory sentences\",\n",
    ")"
   ]
  },
  {
   "cell_type": "code",
   "execution_count": 3,
   "id": "fd71e1e3-893f-40e1-b6c5-f15e42beb851",
   "metadata": {},
   "outputs": [
    {
     "name": "stdout",
     "output_type": "stream",
     "text": [
      "In fleeting whispers, life's enigma calls\n",
      "A mysterious melody, beyond mortal walls\n",
      "A dance of moments, lost in time and space\n",
      "A search for answers, a wondrous, endless chase\n",
      "\n",
      "Through joy and sorrow, we wander and roam\n",
      "Seeking the truth, our hearts' eternal home\n",
      "A sense of belonging, a purpose to claim\n",
      "A reason to live, a story to proclaim\n",
      "\n",
      "In love and laughter, we find our way\n",
      "Through trials and tribulations, we face the day\n",
      "With every breath, a new page unfolds\n",
      "A chapter in the book of life, yet untold\n",
      "\n",
      "The meaning of life, a question we all pose\n",
      "A riddle, wrapped in mystery, as the ages disclose\n",
      "Perhaps, in living, we find the key\n",
      "To unlock the secrets, of humanity\n",
      "\n",
      "In the beauty of nature, we find our place\n",
      "A part of the universe, a single, shining face\n",
      "Connected to all, yet unique and apart\n",
      "A thread in the tapestry, of life's grand work of art\n"
     ]
    }
   ],
   "source": [
    "print(agent_example.run())"
   ]
  },
  {
   "cell_type": "markdown",
   "id": "a8e0e4aa-cce0-4648-a6fd-eac244662874",
   "metadata": {},
   "source": [
    "You can also associate tools with the agent. Let's create a tool for writing some string into a CSV."
   ]
  },
  {
   "cell_type": "code",
   "execution_count": 4,
   "id": "b7fae777-3bf6-4be5-8ab8-de79f545d25a",
   "metadata": {},
   "outputs": [],
   "source": [
    "import csv\n",
    "from agentic_patterns.tool_pattern.tool import tool"
   ]
  },
  {
   "cell_type": "code",
   "execution_count": 5,
   "id": "4016dc0d-cc7f-4e7a-b971-2ecfd31b79cf",
   "metadata": {},
   "outputs": [],
   "source": [
    "@tool\n",
    "def write_str_to_txt(string_data: str, txt_filename: str):\n",
    "    \"\"\"\n",
    "    Writes a string to a txt file.\n",
    "\n",
    "    This function takes a string and writes it to a text file. If the file already exists, \n",
    "    it will be overwritten with the new data.\n",
    "\n",
    "    Args:\n",
    "        string_data (str): The string containing the data to be written to the file.\n",
    "        txt_filename (str): The name of the text file to which the data should be written.\n",
    "    \"\"\"\n",
    "    # Write the string data to the text file\n",
    "    with open(txt_filename, mode='w', encoding='utf-8') as file:\n",
    "        file.write(string_data)\n",
    "\n",
    "    print(f\"Data successfully written to {txt_filename}\")"
   ]
  },
  {
   "cell_type": "code",
   "execution_count": 8,
   "id": "7ed9d5c5-6a1a-4510-85a1-5c03c2d2fa37",
   "metadata": {},
   "outputs": [],
   "source": [
    "agent_tool_example = Agent(\n",
    "    name=\"Writer Agent\",\n",
    "    backstory=\"You are a language model specialised in writing text into .txt files\",\n",
    "    task_description=\"Write the string 'This is a Tool Agent' into './tool_agent_example.txt'\",\n",
    "    task_expected_output=\"A .txt file containing the given string\",\n",
    "    tools=write_str_to_txt,\n",
    ")"
   ]
  },
  {
   "cell_type": "code",
   "execution_count": 9,
   "id": "a6214dc3-e24f-430c-99f0-6a8fe484d8ba",
   "metadata": {},
   "outputs": [
    {
     "name": "stdout",
     "output_type": "stream",
     "text": [
      "\u001b[35m\n",
      "Thought: I need to write a specific string to a .txt file\n",
      "\u001b[32m\n",
      "Using Tool: write_str_to_txt\n",
      "\u001b[32m\n",
      "Tool call dict: \n",
      "{'name': 'write_str_to_txt', 'arguments': {'string_data': 'This is a Tool Agent', 'txt_filename': './tool_agent_example.txt'}, 'id': 0}\n",
      "Data successfully written to ./tool_agent_example.txt\n",
      "\u001b[32m\n",
      "Tool result: \n",
      "None\n",
      "\u001b[34m\n",
      "Observations: {0: None}\n"
     ]
    },
    {
     "data": {
      "text/plain": [
       "'A .txt file containing the given string'"
      ]
     },
     "execution_count": 9,
     "metadata": {},
     "output_type": "execute_result"
    }
   ],
   "source": [
    "agent_tool_example.run()"
   ]
  },
  {
   "cell_type": "markdown",
   "id": "026c6229-5833-4a99-afa6-e45cc72fb04d",
   "metadata": {},
   "source": [
    "## Defining Agent Dependencies"
   ]
  },
  {
   "cell_type": "markdown",
   "id": "ab6688e9-1fdf-4b51-bb33-c63c80ce9bb7",
   "metadata": {},
   "source": [
    "Let's define two agents now."
   ]
  },
  {
   "cell_type": "code",
   "execution_count": 16,
   "id": "bf142278-b556-42cb-9a5e-2761af96f5c0",
   "metadata": {},
   "outputs": [],
   "source": [
    "agent_1 = Agent(\n",
    "    name=\"Poet Agent\",\n",
    "    backstory=\"You are a well-known poet, who enjoys creating high quality poetry.\",\n",
    "    task_description=\"Write a poem about the meaning of life\",\n",
    "    task_expected_output=\"Just output the poem, without any title or introductory sentences\",\n",
    ")\n",
    "\n",
    "agent_2 = Agent(\n",
    "    name=\"Poem Translator Agent\",\n",
    "    backstory=\"You are an expert translator especially skilled in Ancient Greek\",\n",
    "    task_description=\"Translate a poem into Ancient Greek\", \n",
    "    task_expected_output=\"Just output the translated poem and nothing else\"\n",
    ")"
   ]
  },
  {
   "cell_type": "markdown",
   "id": "565d174d-ab42-4318-b53a-1ed142512f4f",
   "metadata": {},
   "source": [
    "We can define the agent dependencies using the `>>` operator."
   ]
  },
  {
   "cell_type": "code",
   "execution_count": 17,
   "id": "f52347ac-99b3-4695-a6a4-cf31f7784826",
   "metadata": {},
   "outputs": [
    {
     "data": {
      "text/plain": [
       "Poem Translator Agent"
      ]
     },
     "execution_count": 17,
     "metadata": {},
     "output_type": "execute_result"
    }
   ],
   "source": [
    "agent_1 >> agent_2"
   ]
  },
  {
   "cell_type": "markdown",
   "id": "603e5a0d-25ef-4fdf-8ed8-63bd50f90cfd",
   "metadata": {},
   "source": [
    "This means `agent_2` depends on `agent_1`. We can check the dependencies and dependents of both agents."
   ]
  },
  {
   "cell_type": "code",
   "execution_count": 18,
   "id": "560148d0-ae20-45ba-b22f-938eda0be64d",
   "metadata": {},
   "outputs": [
    {
     "name": "stdout",
     "output_type": "stream",
     "text": [
      "Agent 1 dependencies:  []\n",
      "Agent 1 dependents:  [Poem Translator Agent]\n",
      "Agent 2 dependencies:  [Poet Agent]\n",
      "Agent 2 dependencies:  []\n"
     ]
    }
   ],
   "source": [
    "print(\"Agent 1 dependencies: \", agent_1.dependencies)\n",
    "print(\"Agent 1 dependents: \", agent_1.dependents)\n",
    "print(\"Agent 2 dependencies: \", agent_2.dependencies)\n",
    "print(\"Agent 2 dependencies: \", agent_2.dependents)"
   ]
  },
  {
   "cell_type": "markdown",
   "id": "e9276064-136c-49bc-ae95-4d2b2ba47187",
   "metadata": {},
   "source": [
    "Now, if we run `agent_1`, the results will be added to `agent_2`'s context."
   ]
  },
  {
   "cell_type": "code",
   "execution_count": 19,
   "id": "26f58fda-3673-4067-ad0b-a4055a476a32",
   "metadata": {},
   "outputs": [
    {
     "name": "stdout",
     "output_type": "stream",
     "text": [
      "In the tapestry of time, a thread is spun \n",
      "A fleeting glimpse, a life is begun\n",
      "The meaning sought, a mystery still \n",
      "A question whispered, a thousand hills\n",
      "\n",
      "Is it love, a flame that burns so bright \n",
      "A beacon guiding, through darkest night \n",
      "Or justice, a balance to uphold \n",
      "A seeker of truth, in a world grown old\n",
      "\n",
      "Perhaps it's freedom, a song to sing \n",
      "A voice raised high, with heart's wing \n",
      "Or wisdom, a treasure to unfold \n",
      "A sage's whispers, in a mystic's hold\n",
      "\n",
      "Maybe it's the journey, not the end \n",
      "A path unwinding, through life's own bend \n",
      "A series of moments, joined as one \n",
      "A dance with time, beneath the golden sun\n",
      "\n",
      "In this cosmic dance, we sway and spin \n",
      "Each step a choice, in the web of life within \n",
      "A thread of purpose, in an intricate weave \n",
      "The meaning of life, a tale we're still to convey.\n"
     ]
    }
   ],
   "source": [
    "print(agent_1.run())"
   ]
  },
  {
   "cell_type": "code",
   "execution_count": 20,
   "id": "cd3dccc9-c201-4a70-bebf-1b9b83b7f59d",
   "metadata": {},
   "outputs": [
    {
     "name": "stdout",
     "output_type": "stream",
     "text": [
      "Poem Translator Agent received context: \n",
      "In the tapestry of time, a thread is spun \n",
      "A fleeting glimpse, a life is begun\n",
      "The meaning sought, a mystery still \n",
      "A question whispered, a thousand hills\n",
      "\n",
      "Is it love, a flame that burns so bright \n",
      "A beacon guiding, through darkest night \n",
      "Or justice, a balance to uphold \n",
      "A seeker of truth, in a world grown old\n",
      "\n",
      "Perhaps it's freedom, a song to sing \n",
      "A voice raised high, with heart's wing \n",
      "Or wisdom, a treasure to unfold \n",
      "A sage's whispers, in a mystic's hold\n",
      "\n",
      "Maybe it's the journey, not the end \n",
      "A path unwinding, through life's own bend \n",
      "A series of moments, joined as one \n",
      "A dance with time, beneath the golden sun\n",
      "\n",
      "In this cosmic dance, we sway and spin \n",
      "Each step a choice, in the web of life within \n",
      "A thread of purpose, in an intricate weave \n",
      "The meaning of life, a tale we're still to convey.\n"
     ]
    }
   ],
   "source": [
    "print(agent_2.context)"
   ]
  },
  {
   "cell_type": "markdown",
   "id": "b4019dd7-b79f-4595-8104-9a47c64e4ba4",
   "metadata": {},
   "source": [
    "Now, if we run the second agent, it will use the context received from the previous agent to generate its output."
   ]
  },
  {
   "cell_type": "code",
   "execution_count": 21,
   "id": "a686cefc-db4f-4eb4-9e93-11bdbdd30d6d",
   "metadata": {},
   "outputs": [
    {
     "name": "stdout",
     "output_type": "stream",
     "text": [
      "Ἐν τῷ ἱστῷ τοῦ χρόνου, βλαβή τις ἐνδέχεται \n",
      "Γνωσῆς ἀληθινῆς, βίος ἀρξάμενος\n",
      "Ἡ ζητουμένη ἐννοία, αἰνίγματι ἔτι \n",
      "Ἑρώτημα ψιθύρισμα, χίλιοι λόφοι\n",
      "\n",
      "Μήποτε ἔρως, φλὸξ ἡλίου ἐξαστραπτοῦσα \n",
      "Φάρος ἡγεμὼν καλύπτον ὄμματι τὸν σκιερὸν νύκτα \n",
      "ἈDllὰ δίκη, ἰσορροπίαν ἀπέχουσα \n",
      "Ζητῶν ἀληθείας, ἐν κόσμῳ ἀγήρῳ ἐξηρπασμένῳ\n",
      "\n",
      "Ἀλλὰ λύσις, ᾠδή τις ᾀδεῖν \n",
      "Φωνή ὑψοῦσα, πτερύγων ἡ ψυχῆς \n",
      "Ἀλλὰ σοφία, θησαυρός ἠskirts  \n",
      "Ῥήτωρ σοφιστὴς ψιθύριζε, μύστις ῥῆγμα\n",
      "\n",
      "Ἢ τὸ πορευθέν, οὐ τέλος \n",
      "Ὀδὸς ἀναπλέκων, βίου ἰδίου σύγκ Maur \n",
      "Ἕξεις στιγμῶν σύζευξις \n",
      "Χορεία χρόνου, ὑπὸ ἀστέρος χρυσοῦ \n",
      "\n",
      "Ἔν τῇ κοσμικῇ χορείᾳ, ἐν κύκλῳ ἡμεῖς ἵσταμεν \n",
      "Ἕκαστον βῆμα, αἱρεσίς ἐστιν ἡ ἐν τη τοῦ βίου ἔσω διάπλασμα \n",
      "Ἕν᾿ ἡ ἀπαρ mắt τοῦ σκέπους, ἐν συμβάσει τοῦ κόσμου ἡ διαλεκτική \n",
      "Ἡ ἐν τῇ ζωῇ ἡμῶν σημασία ἀπαραμάρτητος, λόγος ἅπαξ ἡμῖν ἢτι ἐρρέθη.\n"
     ]
    }
   ],
   "source": [
    "print(agent_2.run())"
   ]
  },
  {
   "cell_type": "markdown",
   "id": "eb11c5a8-fc37-42e3-a521-8cf87ae86dbc",
   "metadata": {},
   "source": [
    "## The Crew"
   ]
  },
  {
   "cell_type": "code",
   "execution_count": 22,
   "id": "66c83cc4-87cf-4afc-855b-e5263ad95a71",
   "metadata": {},
   "outputs": [],
   "source": [
    "from agentic_patterns.multiagent_pattern.agent import Agent\n",
    "from agentic_patterns.multiagent_pattern.crew import Crew"
   ]
  },
  {
   "cell_type": "code",
   "execution_count": 23,
   "id": "e58d1cbd-3dbb-4a36-8fc8-9b4242a7b1d3",
   "metadata": {},
   "outputs": [],
   "source": [
    "with Crew() as crew:\n",
    "    agent_1 = Agent(\n",
    "        name=\"Poem Writer Agent\",\n",
    "        backstory=\"You are a well-known poet, who enjoys creating high quality poetry.\",\n",
    "        task_description=\"Write a poem about the meaning of life\",\n",
    "        task_expected_output=\"Just output the poem, without any title or introductory sentences\",\n",
    "    )\n",
    "\n",
    "    agent_2 = Agent(\n",
    "        name=\"Poem Translator Agent\",\n",
    "        backstory=\"You are an expert translator especially skilled in Spanish\",\n",
    "        task_description=\"Translate a poem into Spanish\", \n",
    "        task_expected_output=\"Just output the translated poem and nothing else\"\n",
    "    )\n",
    "\n",
    "    agent_3 = Agent(\n",
    "        name=\"Writer Agent\",\n",
    "        backstory=\"You are an expert transcriber, that loves writing poems into txt files\",\n",
    "        task_description=\"You'll receive a Greek poem in your context. You need to write the poem into './poem.txt' file\",\n",
    "        task_expected_output=\"A txt file containing the greek poem received from the context\",\n",
    "        tools=write_str_to_txt,\n",
    "    )\n",
    "\n",
    "    agent_1 >> agent_2 >> agent_3"
   ]
  },
  {
   "cell_type": "code",
   "execution_count": 24,
   "id": "9027cbdc-2bb0-419b-87a0-0352f59d3079",
   "metadata": {},
   "outputs": [
    {
     "data": {
      "image/svg+xml": [
       "<?xml version=\"1.0\" encoding=\"UTF-8\" standalone=\"no\"?>\n",
       "<!DOCTYPE svg PUBLIC \"-//W3C//DTD SVG 1.1//EN\"\n",
       " \"http://www.w3.org/Graphics/SVG/1.1/DTD/svg11.dtd\">\n",
       "<!-- Generated by graphviz version 12.1.2 (20240928.0832)\n",
       " -->\n",
       "<!-- Pages: 1 -->\n",
       "<svg width=\"202pt\" height=\"188pt\"\n",
       " viewBox=\"0.00 0.00 201.80 188.00\" xmlns=\"http://www.w3.org/2000/svg\" xmlns:xlink=\"http://www.w3.org/1999/xlink\">\n",
       "<g id=\"graph0\" class=\"graph\" transform=\"scale(1 1) rotate(0) translate(4 184)\">\n",
       "<polygon fill=\"white\" stroke=\"none\" points=\"-4,4 -4,-184 197.8,-184 197.8,4 -4,4\"/>\n",
       "<!-- Poem Writer Agent -->\n",
       "<g id=\"node1\" class=\"node\">\n",
       "<title>Poem Writer Agent</title>\n",
       "<ellipse fill=\"none\" stroke=\"black\" cx=\"96.9\" cy=\"-162\" rx=\"83.08\" ry=\"18\"/>\n",
       "<text text-anchor=\"middle\" x=\"96.9\" y=\"-156.95\" font-family=\"Times,serif\" font-size=\"14.00\">Poem Writer Agent</text>\n",
       "</g>\n",
       "<!-- Poem Translator Agent -->\n",
       "<g id=\"node2\" class=\"node\">\n",
       "<title>Poem Translator Agent</title>\n",
       "<ellipse fill=\"none\" stroke=\"black\" cx=\"96.9\" cy=\"-90\" rx=\"96.9\" ry=\"18\"/>\n",
       "<text text-anchor=\"middle\" x=\"96.9\" y=\"-84.95\" font-family=\"Times,serif\" font-size=\"14.00\">Poem Translator Agent</text>\n",
       "</g>\n",
       "<!-- Poem Writer Agent&#45;&gt;Poem Translator Agent -->\n",
       "<g id=\"edge1\" class=\"edge\">\n",
       "<title>Poem Writer Agent&#45;&gt;Poem Translator Agent</title>\n",
       "<path fill=\"none\" stroke=\"black\" d=\"M96.9,-143.7C96.9,-136.41 96.9,-127.73 96.9,-119.54\"/>\n",
       "<polygon fill=\"black\" stroke=\"black\" points=\"100.4,-119.62 96.9,-109.62 93.4,-119.62 100.4,-119.62\"/>\n",
       "</g>\n",
       "<!-- Writer Agent -->\n",
       "<g id=\"node3\" class=\"node\">\n",
       "<title>Writer Agent</title>\n",
       "<ellipse fill=\"none\" stroke=\"black\" cx=\"96.9\" cy=\"-18\" rx=\"59.54\" ry=\"18\"/>\n",
       "<text text-anchor=\"middle\" x=\"96.9\" y=\"-12.95\" font-family=\"Times,serif\" font-size=\"14.00\">Writer Agent</text>\n",
       "</g>\n",
       "<!-- Poem Translator Agent&#45;&gt;Writer Agent -->\n",
       "<g id=\"edge2\" class=\"edge\">\n",
       "<title>Poem Translator Agent&#45;&gt;Writer Agent</title>\n",
       "<path fill=\"none\" stroke=\"black\" d=\"M96.9,-71.7C96.9,-64.41 96.9,-55.73 96.9,-47.54\"/>\n",
       "<polygon fill=\"black\" stroke=\"black\" points=\"100.4,-47.62 96.9,-37.62 93.4,-47.62 100.4,-47.62\"/>\n",
       "</g>\n",
       "</g>\n",
       "</svg>\n"
      ],
      "text/plain": [
       "<graphviz.graphs.Digraph at 0x10ec13490>"
      ]
     },
     "execution_count": 24,
     "metadata": {},
     "output_type": "execute_result"
    }
   ],
   "source": [
    "crew.plot()"
   ]
  },
  {
   "cell_type": "code",
   "execution_count": 25,
   "id": "b39f70a0-2c91-40c4-ab56-8318cef7ef97",
   "metadata": {},
   "outputs": [
    {
     "name": "stdout",
     "output_type": "stream",
     "text": [
      "\u001b[1m\u001b[36m\n",
      "==================================================\n",
      "\u001b[35mRUNNING AGENT: Poem Writer Agent\n",
      "\u001b[1m\u001b[36m==================================================\n",
      "\n",
      "\u001b[31mIn cosmic dance, we twirl and play,\n",
      "A fleeting moment, in the grand display,\n",
      "Our lives a whisper, a heartbeat's space,\n",
      "A journey through, the human race.\n",
      "\n",
      "We search for answers, day and night,\n",
      "For meaning's thread, a guiding light,\n",
      "Through trials and tribulations' fire,\n",
      "We test our wills, and hearts' desire.\n",
      "\n",
      "Is life a puzzle, a mystery still,\n",
      "A tapestry woven, with intricate will,\n",
      "Or is it simple, in its grand design,\n",
      "A dance of love, a cosmic rhyme?\n",
      "\n",
      "Perhaps it's both, a complex hue,\n",
      "A melody played, with moments anew,\n",
      "A story unfolding, with each new day,\n",
      "A testament to life's own way.\n",
      "\n",
      "We live, we love, we laugh, we cry,\n",
      "Our moments precious, our memories high,\n",
      "In this grand tapestry, we weave our part,\n",
      "A unique thread, in life's great art.\n",
      "\n",
      "And when our time, on this earth is done,\n",
      "And our life's story, is forever won,\n",
      "We'll leave behind, a legacy bold,\n",
      "A contribution, to the cosmic fold.\n",
      "\u001b[1m\u001b[36m\n",
      "==================================================\n",
      "\u001b[35mRUNNING AGENT: Poem Translator Agent\n",
      "\u001b[1m\u001b[36m==================================================\n",
      "\n",
      "\u001b[31mEn danza cósmica, giramos y jugamos,\n",
      "Un momento fugaz, en el gran espectáculo,\n",
      "Nuestras vidas un susurro, un espacio de latido,\n",
      "Un viaje a través, de la raza humana.\n",
      "\n",
      "Buscamos respuestas, día y noche,\n",
      "Por el hilo de la significación, una luz guía,\n",
      "A través de pruebas y tribulaciones de fuego,\n",
      "Probamos nuestra voluntad, y el deseo de nuestros corazones.\n",
      "\n",
      "¿Es la vida un rompecabezas, un misterio todavía,\n",
      "Una tapicería tejida, con voluntad intrincada,\n",
      "O es simple, en su gran diseño,\n",
      "Una danza de amor, un ritmo cósmico?\n",
      "\n",
      "Quizás es ambas cosas, un matiz complejo,\n",
      "Una melodía interpretada, con momentos nuevos,\n",
      "Una historia que se despliega, con cada nuevo día,\n",
      "Un testimonio de la propia forma de vida.\n",
      "\n",
      "Vivimos, amamos, reímos, lloramos,\n",
      "Nuestros momentos preciados, nuestros recuerdos altos,\n",
      "En esta gran tapicería, tejemos nuestra parte,\n",
      "Un hilo único, en el gran arte de la vida.\n",
      "\n",
      "Y cuando nuestro tiempo, en esta tierra es terminado,\n",
      "Y la historia de nuestra vida, es ganada para siempre,\n",
      "Dejaremos atrás, un legado audaz,\n",
      "Una contribución, al tejido cósmico.\n",
      "\u001b[1m\u001b[36m\n",
      "==================================================\n",
      "\u001b[35mRUNNING AGENT: Writer Agent\n",
      "\u001b[1m\u001b[36m==================================================\n",
      "\n",
      "\u001b[35m\n",
      "Thought: I need to write the poem into a txt file\n",
      "\u001b[32m\n",
      "Using Tool: write_str_to_txt\n",
      "\u001b[32m\n",
      "Tool call dict: \n",
      "{'name': 'write_str_to_txt', 'arguments': {'string_data': 'En danza cósmica, giramos y jugamos,\\nUn momento fugaz, en el gran espectáculo,\\nNuestras vidas un susurro, un espacio de latido,\\nUn viaje a través, de la raza humana.\\n\\nBuscamos respuestas, día y noche,\\nPor el hilo de la significación, una luz guía,\\nA través de pruebas y tribulaciones de fuego,\\nProbamos nuestra voluntad, y el deseo de nuestros corazones.\\n\\n¿Es la vida un rompecabezas, un misterio todavía,\\nUna tapicería tejida, con voluntad intrincada,\\nO es simple, en su gran diseño,\\nUna danza de amor, un ritmo cósmico?\\n\\nQuizás es ambas cosas, un matiz complejo,\\nUna melodía interpretada, con momentos nuevos,\\nUna historia que se despliega, con cada nuevo día,\\nUn testimonio de la propia forma de vida.\\n\\nVivimos, amamos, reímos, lloramos,\\nNuestros momentos preciados, nuestros recuerdos altos,\\nEn esta gran tapicería, tejemos nuestra parte,\\nUn hilo único, en el gran arte de la vida.\\n\\nY cuando nuestro tiempo, en esta tierra es terminado,\\nY la historia de nuestra vida, es ganada para siempre,\\nDejaremos atrás, un legado audaz,\\nUna contribución, al tejido cósmico.', 'txt_filename': './poem.txt'}, 'id': 0}\n",
      "Data successfully written to ./poem.txt\n",
      "\u001b[32m\n",
      "Tool result: \n",
      "None\n",
      "\u001b[34m\n",
      "Observations: {0: None}\n",
      "\u001b[31mNone\n"
     ]
    }
   ],
   "source": [
    "crew.run()"
   ]
  }
 ],
 "metadata": {
  "kernelspec": {
   "display_name": "Python 3 (ipykernel)",
   "language": "python",
   "name": "python3"
  },
  "language_info": {
   "codemirror_mode": {
    "name": "ipython",
    "version": 3
   },
   "file_extension": ".py",
   "mimetype": "text/x-python",
   "name": "python",
   "nbconvert_exporter": "python",
   "pygments_lexer": "ipython3",
   "version": "3.11.3"
  }
 },
 "nbformat": 4,
 "nbformat_minor": 5
}
